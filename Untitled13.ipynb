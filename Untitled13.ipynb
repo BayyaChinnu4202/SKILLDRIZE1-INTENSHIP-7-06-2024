{
  "nbformat": 4,
  "nbformat_minor": 0,
  "metadata": {
    "colab": {
      "provenance": [],
      "authorship_tag": "ABX9TyO4KwPBuVl+RZIVHDiZGzN4",
      "include_colab_link": true
    },
    "kernelspec": {
      "name": "python3",
      "display_name": "Python 3"
    },
    "language_info": {
      "name": "python"
    }
  },
  "cells": [
    {
      "cell_type": "markdown",
      "metadata": {
        "id": "view-in-github",
        "colab_type": "text"
      },
      "source": [
        "<a href=\"https://colab.research.google.com/github/BayyaChinnu4202/SKILLDRIZE1-INTENSHIP-7-06-2024/blob/main/Untitled13.ipynb\" target=\"_parent\"><img src=\"https://colab.research.google.com/assets/colab-badge.svg\" alt=\"Open In Colab\"/></a>"
      ]
    },
    {
      "cell_type": "code",
      "execution_count": 1,
      "metadata": {
        "colab": {
          "base_uri": "https://localhost:8080/"
        },
        "id": "8gjnrpect8jv",
        "outputId": "e52c2430-192e-446b-a7da-8f2a9d5ce7e3"
      },
      "outputs": [
        {
          "output_type": "stream",
          "name": "stdout",
          "text": [
            "enter any number10\n",
            "factorial of given number is 3628800\n"
          ]
        }
      ],
      "source": [
        "# Recursion example for factorial\n",
        "def fact(n):\n",
        "  if(n==1):\n",
        "    return 1\n",
        "  else:\n",
        "    return n*fact(n-1)\n",
        "\n",
        "\n",
        "#main\n",
        "n=int(input('enter any number'))\n",
        "print('factorial of given number is',fact(n))"
      ]
    },
    {
      "cell_type": "code",
      "source": [
        "#find the area of rectangle\n",
        "def area_rect(l,b):\n",
        "  return l*b\n",
        "def area_cir(r):\n",
        "  return 3.14*r*r\n",
        "def area_sqr(s):\n",
        "  return s*s\n",
        "\n",
        "#main\n",
        "l=int(input('enter length of rectangle'))\n",
        "b=int(input('enter breadth of rectangle'))\n",
        "print('Area of rectangle is',area_rect(l,b))\n",
        "\n",
        "r=int(input('enter radius'))\n",
        "print('Area of Circle is',area_cir(r))\n",
        "\n",
        "s=int(input('enter radius'))\n",
        "print('Area of Circle is',area_sqr(s))"
      ],
      "metadata": {
        "colab": {
          "base_uri": "https://localhost:8080/"
        },
        "id": "mll5ACjYu1O9",
        "outputId": "06f5255a-a466-4009-cc36-e9f14a200346"
      },
      "execution_count": 2,
      "outputs": [
        {
          "output_type": "stream",
          "name": "stdout",
          "text": [
            "enter length of rectangle10\n",
            "enter breadth of rectangle20\n",
            "Area of rectangle is 200\n",
            "enter radius5\n",
            "Area of Circle is 78.5\n",
            "enter radius12\n",
            "Area of Circle is 144\n"
          ]
        }
      ]
    },
    {
      "cell_type": "code",
      "source": [
        "# PRINTING STUDENT RESULT\n",
        "s1=int(input(\"enter marks in sub1\"))\n",
        "s2=int(input(\"enter marks in sub2\"))\n",
        "s3=int(input(\"enter marks in sub3\"))\n",
        "total=s1+s2+s3\n",
        "print(\"Total marks\",total)\n",
        "avg=total//3\n",
        "print(\"average marks\",avg)\n",
        "if(avg>=35):\n",
        "  print(\"pass\")\n",
        "else:\n",
        "  print(\"fail\")"
      ],
      "metadata": {
        "colab": {
          "base_uri": "https://localhost:8080/"
        },
        "id": "LBUJ1j-o01OX",
        "outputId": "2c06416a-f926-400f-c9c1-fae33081558f"
      },
      "execution_count": 7,
      "outputs": [
        {
          "output_type": "stream",
          "name": "stdout",
          "text": [
            "enter marks in sub190\n",
            "enter marks in sub280\n",
            "enter marks in sub370\n",
            "Total marks 240\n",
            "average marks 80\n",
            "pass\n"
          ]
        }
      ]
    },
    {
      "cell_type": "code",
      "source": [
        "i=1\n",
        "while(i<10):\n",
        "  print(i)\n",
        "  i=i+1"
      ],
      "metadata": {
        "colab": {
          "base_uri": "https://localhost:8080/"
        },
        "id": "iOLS9kD73m1h",
        "outputId": "91a7c64c-2679-4a56-e66d-652cca7442fb"
      },
      "execution_count": 8,
      "outputs": [
        {
          "output_type": "stream",
          "name": "stdout",
          "text": [
            "1\n",
            "2\n",
            "3\n",
            "4\n",
            "5\n",
            "6\n",
            "7\n",
            "8\n",
            "9\n"
          ]
        }
      ]
    }
  ]
}